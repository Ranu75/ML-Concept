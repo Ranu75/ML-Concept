{
 "cells": [
  {
   "cell_type": "markdown",
   "id": "58792f4d-38e3-4b3d-9511-f7962768e269",
   "metadata": {},
   "source": [
    "# Libraries "
   ]
  },
  {
   "cell_type": "code",
   "execution_count": 1,
   "id": "0b2c7733-5df4-4c3b-b6a2-a11ad7d15f58",
   "metadata": {},
   "outputs": [],
   "source": [
    "# librairie de base\n",
    "import pandas as pd\n",
    "import numpy as np\n",
    "\n",
    "# librairie pour le preprocessing\n",
    "from sklearn.preprocessing import StandardScaler\n",
    "\n",
    "# librairie pour la modélisation\n",
    "from sklearn.datasets import load_iris # Iris data\n",
    "from sklearn.model_selection import train_test_split # split into two sample : training and test\n",
    "from sklearn.model_selection import cross_val_score, GridSearchCV # split into two sample : validation and training\n",
    "from sklearn.linear_model import LogisticRegression # Logistic Regression"
   ]
  },
  {
   "cell_type": "markdown",
   "id": "7ee1e8c1-4e01-459e-8c9e-45c0e0fee2e3",
   "metadata": {},
   "source": [
    "# Import data"
   ]
  },
  {
   "cell_type": "code",
   "execution_count": 2,
   "id": "31edb4b2-9b29-4f63-bd98-54a0d0bab535",
   "metadata": {
    "scrolled": true
   },
   "outputs": [
    {
     "name": "stdout",
     "output_type": "stream",
     "text": [
      "    sepal length (cm)  sepal width (cm)  petal length (cm)  petal width (cm)  \\\n",
      "0                 5.1               3.5                1.4               0.2   \n",
      "1                 4.9               3.0                1.4               0.2   \n",
      "2                 4.7               3.2                1.3               0.2   \n",
      "3                 4.6               3.1                1.5               0.2   \n",
      "4                 5.0               3.6                1.4               0.2   \n",
      "5                 5.4               3.9                1.7               0.4   \n",
      "6                 4.6               3.4                1.4               0.3   \n",
      "7                 5.0               3.4                1.5               0.2   \n",
      "8                 4.4               2.9                1.4               0.2   \n",
      "9                 4.9               3.1                1.5               0.1   \n",
      "10                5.4               3.7                1.5               0.2   \n",
      "11                4.8               3.4                1.6               0.2   \n",
      "12                4.8               3.0                1.4               0.1   \n",
      "13                4.3               3.0                1.1               0.1   \n",
      "14                5.8               4.0                1.2               0.2   \n",
      "15                5.7               4.4                1.5               0.4   \n",
      "16                5.4               3.9                1.3               0.4   \n",
      "17                5.1               3.5                1.4               0.3   \n",
      "18                5.7               3.8                1.7               0.3   \n",
      "19                5.1               3.8                1.5               0.3   \n",
      "\n",
      "    target  \n",
      "0        0  \n",
      "1        0  \n",
      "2        0  \n",
      "3        0  \n",
      "4        0  \n",
      "5        0  \n",
      "6        0  \n",
      "7        0  \n",
      "8        0  \n",
      "9        0  \n",
      "10       0  \n",
      "11       0  \n",
      "12       0  \n",
      "13       0  \n",
      "14       0  \n",
      "15       0  \n",
      "16       0  \n",
      "17       0  \n",
      "18       0  \n",
      "19       0  \n"
     ]
    }
   ],
   "source": [
    "# Charger les données iris \n",
    "iris = load_iris()\n",
    "# Créer un DataFrame pandas à partir des données et des noms des colonnes\n",
    "data_iris = pd.DataFrame(data=iris.data, columns=iris.feature_names) # features\n",
    "data_iris[\"target\"] = iris.target\n",
    "# Afficher les 10 premières lignes des données iris\n",
    "print(data_iris.head(20))"
   ]
  },
  {
   "cell_type": "markdown",
   "id": "af5211df-b5b4-4704-9caf-e39576963afe",
   "metadata": {},
   "source": [
    "# Cleaning"
   ]
  },
  {
   "cell_type": "code",
   "execution_count": 3,
   "id": "e4b301d5-de73-4b1a-a5ea-04350c41e198",
   "metadata": {},
   "outputs": [
    {
     "name": "stdout",
     "output_type": "stream",
     "text": [
      "[0 1 2]\n"
     ]
    }
   ],
   "source": [
    "# Voir les valeurs possible de target \n",
    "print(data_iris['target'].unique())\n",
    "# Ajouter le nom des fleurs à partir de la colonne target\n",
    "data_iris['flower_name'] = data_iris['target'].map({0: 'setosa', 1: 'versicolor', 2: 'virginica'})"
   ]
  },
  {
   "cell_type": "code",
   "execution_count": 4,
   "id": "02e94dae-f61f-42c5-8040-7d3be911d390",
   "metadata": {
    "scrolled": true
   },
   "outputs": [
    {
     "name": "stdout",
     "output_type": "stream",
     "text": [
      "Doublons :\n",
      "     sepal length (cm)  sepal width (cm)  petal length (cm)  petal width (cm)  \\\n",
      "142                5.8               2.7                5.1               1.9   \n",
      "\n",
      "     target flower_name  \n",
      "142       2   virginica  \n"
     ]
    }
   ],
   "source": [
    "# Duplicated \n",
    "\n",
    "## Recherche des éventuelles duplicated\n",
    "duplicates = data_iris[data_iris.duplicated()]\n",
    "print(\"Doublons :\")\n",
    "print(duplicates)\n",
    "\n",
    "## Suppression des duplicated\n",
    "data_iris = data_iris.drop_duplicates(keep='first')"
   ]
  },
  {
   "cell_type": "code",
   "execution_count": 5,
   "id": "4e8fa495-75a8-4d02-8b70-a4afb1a0f369",
   "metadata": {},
   "outputs": [
    {
     "name": "stdout",
     "output_type": "stream",
     "text": [
      "Valeurs manquantes :\n",
      "sepal length (cm)    0\n",
      "sepal width (cm)     0\n",
      "petal length (cm)    0\n",
      "petal width (cm)     0\n",
      "target               0\n",
      "flower_name          0\n",
      "dtype: int64\n"
     ]
    }
   ],
   "source": [
    "# Recherche d'éventuel valeurs manquantes selon les colonnes\n",
    "missing_values = data_iris.isnull().sum()\n",
    "print(\"Valeurs manquantes :\")\n",
    "print(missing_values)"
   ]
  },
  {
   "cell_type": "markdown",
   "id": "eaadbc96-afcb-4008-9140-c1a502980866",
   "metadata": {},
   "source": [
    "# Pre-processing"
   ]
  },
  {
   "cell_type": "code",
   "execution_count": 6,
   "id": "9f574fba-017d-4b60-9732-a37e6e4bf70a",
   "metadata": {},
   "outputs": [],
   "source": [
    "X = data_iris.drop(['target', 'flower_name'], axis=1) # feature\n",
    "y = data_iris['target'] # target"
   ]
  },
  {
   "cell_type": "code",
   "execution_count": 7,
   "id": "3712e6a3-5f53-4281-8b43-13ed2582e384",
   "metadata": {},
   "outputs": [],
   "source": [
    "X_train, X_test, y_train, y_test = train_test_split(X, y, test_size=0.20, random_state=42)"
   ]
  },
  {
   "cell_type": "code",
   "execution_count": 8,
   "id": "85bfc120-c13e-492d-a777-e27ee1d59c34",
   "metadata": {},
   "outputs": [],
   "source": [
    "scaler = StandardScaler()\n",
    "X_train_scaled = scaler.fit_transform(X_train)\n",
    "X_test_scaled = scaler.fit_transform(X_test)"
   ]
  },
  {
   "cell_type": "markdown",
   "id": "33f3130a-bead-48ef-8253-151c442c5891",
   "metadata": {},
   "source": [
    "# Modeling"
   ]
  },
  {
   "cell_type": "markdown",
   "id": "eabf6785-ed60-4c7d-bc98-fbdd93f9cebb",
   "metadata": {},
   "source": [
    "### Logistic Regression"
   ]
  },
  {
   "cell_type": "code",
   "execution_count": 9,
   "id": "ca22aeb7-6386-40e2-a8e0-4c47cd443405",
   "metadata": {},
   "outputs": [],
   "source": [
    "## Logitistic Regression (penalty 'l1')\n",
    "\n",
    "#### Define model parameter\n",
    "logreg_l1 = LogisticRegression(penalty='l1', solver='liblinear') # Logistic regression with penalty 'l1' "
   ]
  },
  {
   "cell_type": "markdown",
   "id": "c1aa1519-411b-4c4a-b568-7024a186300c",
   "metadata": {},
   "source": [
    "### Hyperparameter turning"
   ]
  },
  {
   "cell_type": "code",
   "execution_count": 10,
   "id": "3199730f-6084-4b3f-a1e4-d8869c2a8f5b",
   "metadata": {},
   "outputs": [
    {
     "name": "stdout",
     "output_type": "stream",
     "text": [
      "Best hyperparameter :  {'C': 100}\n"
     ]
    }
   ],
   "source": [
    "#### Define parameter grid\n",
    "param_grid = {\n",
    "    'C': [0.01, 0.1, 1, 10, 100]\n",
    "}\n",
    "\n",
    "#### Configurate GridSearchCV\n",
    "logreg_l1_opt = GridSearchCV(logreg_l1, param_grid, cv=5, scoring='accuracy')\n",
    "\n",
    "#### Execute research on the grid\n",
    "logreg_l1_opt.fit(X_train_scaled, y_train)\n",
    "\n",
    "#### Best hyperparameter turning\n",
    "print(\"Best hyperparameter : \", logreg_l1_opt.best_params_)"
   ]
  },
  {
   "cell_type": "code",
   "execution_count": 11,
   "id": "2e3ce29d-3406-406c-ad7e-9a01a66facc6",
   "metadata": {},
   "outputs": [],
   "source": [
    "#### Define the best model\n",
    "best_model = logreg_l1_opt.best_estimator_\n",
    "\n",
    "### Prediction \n",
    "y_pred = best_model.predict(X_test_scaled)"
   ]
  }
 ],
 "metadata": {
  "kernelspec": {
   "display_name": "Python 3 (ipykernel)",
   "language": "python",
   "name": "python3"
  },
  "language_info": {
   "codemirror_mode": {
    "name": "ipython",
    "version": 3
   },
   "file_extension": ".py",
   "mimetype": "text/x-python",
   "name": "python",
   "nbconvert_exporter": "python",
   "pygments_lexer": "ipython3",
   "version": "3.12.2"
  }
 },
 "nbformat": 4,
 "nbformat_minor": 5
}
