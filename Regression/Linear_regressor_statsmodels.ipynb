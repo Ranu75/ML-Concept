{
 "cells": [
  {
   "cell_type": "markdown",
   "id": "ebb4f6a3-001c-49e5-b307-4253bf390f2b",
   "metadata": {},
   "source": [
    "# Example of Linear Regression \n",
    "\n",
    "In this notebook, we use linear regression to summarize the relationship between the target and one feature. We use the statsmodels librarie to model linear regression."
   ]
  },
  {
   "cell_type": "code",
   "execution_count": 24,
   "id": "e15adbb1-90a8-4814-bcca-b7a6dad12550",
   "metadata": {},
   "outputs": [],
   "source": [
    "# import libraries\n",
    "import matplotlib.pyplot as plt\n",
    "import pandas as pd\n",
    "import numpy as np\n",
    "from sklearn import datasets\n",
    "import statsmodels.api as sm"
   ]
  },
  {
   "cell_type": "code",
   "execution_count": 5,
   "id": "2f8565f6-418b-43a9-9bb9-6ad56cc7336c",
   "metadata": {},
   "outputs": [],
   "source": [
    "# Load the diabetes dataset\n",
    "diabetes_X, diabetes_y = datasets.load_diabetes(return_X_y=True)"
   ]
  },
  {
   "cell_type": "code",
   "execution_count": 6,
   "id": "797fa2e7-2dd3-4236-8d67-5fbdc0acaa8a",
   "metadata": {},
   "outputs": [],
   "source": [
    "# Fit and summarize OLS model\n",
    "mod = sm.OLS(diabetes_X, diabetes_y)\n",
    "res = mod.fit()"
   ]
  },
  {
   "cell_type": "code",
   "execution_count": 15,
   "id": "bbaf4a41-23ff-412b-ac30-b1add5730e0c",
   "metadata": {},
   "outputs": [
    {
     "data": {
      "text/plain": [
       "array([-0.00188202, -0.04464164, -0.05147406, -0.02632753, -0.00844872,\n",
       "       -0.01916334,  0.07441156, -0.03949338, -0.06833155, -0.09220405])"
      ]
     },
     "execution_count": 15,
     "metadata": {},
     "output_type": "execute_result"
    }
   ],
   "source": [
    "# Summarize results\n",
    "diabetes_X"
   ]
  },
  {
   "cell_type": "code",
   "execution_count": 19,
   "id": "dd54bc89-f49b-4e29-90a8-57cdd51055e7",
   "metadata": {},
   "outputs": [],
   "source": [
    "# list of feature\n",
    "list_feature = []\n",
    "\n",
    "# record observation\n",
    "for i in range(len(diabetes_X[0])):\n",
    "    list_obs = []\n",
    "    for liste in diabetes_X:\n",
    "        list_obs.append(liste[i])\n",
    "    list_feature.append(list_obs)"
   ]
  },
  {
   "cell_type": "code",
   "execution_count": 29,
   "id": "50b111e9-3983-46fc-9a25-47d7907a553f",
   "metadata": {},
   "outputs": [],
   "source": [
    "# create a DataFrame\n",
    "\n",
    "## feature\n",
    "diabetes = pd.DataFrame(\n",
    "    {\n",
    "        f'feature_{i}':list_feature[i] for i in range(len(list_feature))\n",
    "    }\n",
    ")\n",
    "\n",
    "## target\n",
    "diabetes['target'] = list(diabetes_y)"
   ]
  },
  {
   "cell_type": "code",
   "execution_count": 49,
   "id": "a5249924-b626-42d7-8894-cb5dfdcb7805",
   "metadata": {},
   "outputs": [],
   "source": [
    "# Fit and summarize OLS model\n",
    "mod = sm.OLS(diabetes['target'], diabetes.drop('target', axis=1))\n",
    "res = mod.fit()"
   ]
  },
  {
   "cell_type": "code",
   "execution_count": 51,
   "id": "5954e120-4493-481f-95fa-5e9f67e9dce3",
   "metadata": {
    "scrolled": true
   },
   "outputs": [
    {
     "name": "stdout",
     "output_type": "stream",
     "text": [
      "                                 OLS Regression Results                                \n",
      "=======================================================================================\n",
      "Dep. Variable:                 target   R-squared (uncentered):                   0.106\n",
      "Model:                            OLS   Adj. R-squared (uncentered):              0.085\n",
      "Method:                 Least Squares   F-statistic:                              5.100\n",
      "Date:                Sun, 24 Nov 2024   Prob (F-statistic):                    4.72e-07\n",
      "Time:                        01:12:56   Log-Likelihood:                         -2873.9\n",
      "No. Observations:                 442   AIC:                                      5768.\n",
      "Df Residuals:                     432   BIC:                                      5809.\n",
      "Df Model:                          10                                                  \n",
      "Covariance Type:            nonrobust                                                  \n",
      "==============================================================================\n",
      "                 coef    std err          t      P>|t|      [0.025      0.975]\n",
      "------------------------------------------------------------------------------\n",
      "feature_0    -10.0099    179.967     -0.056      0.956    -363.729     343.709\n",
      "feature_1   -239.8156    184.404     -1.300      0.194    -602.255     122.624\n",
      "feature_2    519.8459    200.401      2.594      0.010     125.964     913.728\n",
      "feature_3    324.3846    197.053      1.646      0.100     -62.917     711.687\n",
      "feature_4   -792.1756   1255.052     -0.631      0.528   -3258.944    1674.593\n",
      "feature_5    476.7390   1021.170      0.467      0.641   -1530.341    2483.819\n",
      "feature_6    101.0433    640.151      0.158      0.875   -1157.155    1359.242\n",
      "feature_7    177.0632    486.370      0.364      0.716    -778.883    1133.009\n",
      "feature_8    751.2737    517.768      1.451      0.148    -266.384    1768.931\n",
      "feature_9     67.6267    198.747      0.340      0.734    -323.004     458.257\n",
      "==============================================================================\n",
      "Omnibus:                        1.506   Durbin-Watson:                   0.223\n",
      "Prob(Omnibus):                  0.471   Jarque-Bera (JB):                1.404\n",
      "Skew:                           0.017   Prob(JB):                        0.496\n",
      "Kurtosis:                       2.726   Cond. No.                         21.7\n",
      "==============================================================================\n",
      "\n",
      "Notes:\n",
      "[1] R² is computed without centering (uncentered) since the model does not contain a constant.\n",
      "[2] Standard Errors assume that the covariance matrix of the errors is correctly specified.\n"
     ]
    }
   ],
   "source": [
    "# Summarize results\n",
    "print(res.summary())"
   ]
  },
  {
   "cell_type": "markdown",
   "id": "4d6cad6d-756c-4859-b587-b1ea36d31a7c",
   "metadata": {},
   "source": [
    "##### Analyse des résultats :\n",
    "- **$R^{2}$** : $R^{2}=0.106$ suggère que 10.6% de la variation de la variable *target* est expliquée par les features.\n",
    "- **coef** : Il s'agit des coefficients qui multiplient les variables indépendantes dans le modèle de régression. Cela signifie que pour une augmentation d'une unité du *feature_0*, *target* diminue de 10.0099.\n",
    "- **$P>\\lvert t \\rvert$ (p-valeur)** : Les coefficients ont des valeurs de p-values supérieurs à 0.05. Cela signifie qu'ils ne sont pas statistiquement significatives.\n",
    "- **AIC** & **BIC** : Ces valeurs semblent très élevés, cela prouve que le modèle est de mauvais qualité."
   ]
  }
 ],
 "metadata": {
  "kernelspec": {
   "display_name": "Python 3 (ipykernel)",
   "language": "python",
   "name": "python3"
  },
  "language_info": {
   "codemirror_mode": {
    "name": "ipython",
    "version": 3
   },
   "file_extension": ".py",
   "mimetype": "text/x-python",
   "name": "python",
   "nbconvert_exporter": "python",
   "pygments_lexer": "ipython3",
   "version": "3.12.4"
  }
 },
 "nbformat": 4,
 "nbformat_minor": 5
}
